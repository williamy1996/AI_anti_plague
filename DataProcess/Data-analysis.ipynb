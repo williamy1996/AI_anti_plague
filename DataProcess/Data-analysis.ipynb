{
 "cells": [
  {
   "cell_type": "code",
   "execution_count": 94,
   "metadata": {},
   "outputs": [],
   "source": [
    "import numpy as np\n",
    "import pandas as pd\n",
    "from sklearn.ensemble import ExtraTreesClassifier\n",
    "from sklearn.ensemble import RandomForestClassifier,GradientBoostingClassifier\n",
    "from sklearn.neighbors import KNeighborsClassifier as kNearestNeighbors\n",
    "from sklearn.linear_model import LogisticRegression\n",
    "# import lightgbm as lgb\n",
    "from sklearn import svm \n",
    "import matplotlib.pyplot as plt\n",
    "import seaborn as sns\n",
    "import warnings\n",
    "warnings.filterwarnings('ignore')\n",
    "from sklearn.model_selection import train_test_split"
   ]
  },
  {
   "cell_type": "code",
   "execution_count": 7,
   "metadata": {},
   "outputs": [
    {
     "name": "stdout",
     "output_type": "stream",
     "text": [
      "(79267, 3178)\n",
      "(26358, 3178)\n",
      "(79267, 7)\n"
     ]
    }
   ],
   "source": [
    "import numpy as np\n",
    "import pandas as pd\n",
    "train_data = pd.read_csv('candidate_train.csv')\n",
    "test_data = pd.read_csv('candidate_val.csv')\n",
    "label = pd.read_csv('train_answer.csv')\n",
    "print(train_data.shape)\n",
    "print(test_data.shape)\n",
    "print(label.shape)"
   ]
  },
  {
   "cell_type": "markdown",
   "metadata": {},
   "source": [
    "### 1. 按照ID排序"
   ]
  },
  {
   "cell_type": "code",
   "execution_count": 6,
   "metadata": {},
   "outputs": [
    {
     "data": {
      "text/html": [
       "<div>\n",
       "<style scoped>\n",
       "    .dataframe tbody tr th:only-of-type {\n",
       "        vertical-align: middle;\n",
       "    }\n",
       "\n",
       "    .dataframe tbody tr th {\n",
       "        vertical-align: top;\n",
       "    }\n",
       "\n",
       "    .dataframe thead th {\n",
       "        text-align: right;\n",
       "    }\n",
       "</style>\n",
       "<table border=\"1\" class=\"dataframe\">\n",
       "  <thead>\n",
       "    <tr style=\"text-align: right;\">\n",
       "      <th></th>\n",
       "      <th>0</th>\n",
       "      <th>1</th>\n",
       "      <th>2</th>\n",
       "      <th>3</th>\n",
       "      <th>4</th>\n",
       "      <th>5</th>\n",
       "      <th>6</th>\n",
       "      <th>7</th>\n",
       "      <th>8</th>\n",
       "      <th>9</th>\n",
       "      <th>...</th>\n",
       "      <th>3168</th>\n",
       "      <th>3169</th>\n",
       "      <th>3170</th>\n",
       "      <th>3171</th>\n",
       "      <th>3172</th>\n",
       "      <th>3173</th>\n",
       "      <th>3174</th>\n",
       "      <th>3175</th>\n",
       "      <th>3176</th>\n",
       "      <th>id</th>\n",
       "    </tr>\n",
       "  </thead>\n",
       "  <tbody>\n",
       "    <tr>\n",
       "      <th>0</th>\n",
       "      <td>0</td>\n",
       "      <td>0</td>\n",
       "      <td>0</td>\n",
       "      <td>0</td>\n",
       "      <td>0</td>\n",
       "      <td>0</td>\n",
       "      <td>0</td>\n",
       "      <td>0</td>\n",
       "      <td>4</td>\n",
       "      <td>0</td>\n",
       "      <td>...</td>\n",
       "      <td>639.301885</td>\n",
       "      <td>674.304907</td>\n",
       "      <td>2.427349</td>\n",
       "      <td>129.159</td>\n",
       "      <td>-0.8904</td>\n",
       "      <td>3</td>\n",
       "      <td>2</td>\n",
       "      <td>51.40</td>\n",
       "      <td>2</td>\n",
       "      <td>c8834c14</td>\n",
       "    </tr>\n",
       "    <tr>\n",
       "      <th>1</th>\n",
       "      <td>0</td>\n",
       "      <td>0</td>\n",
       "      <td>0</td>\n",
       "      <td>0</td>\n",
       "      <td>0</td>\n",
       "      <td>0</td>\n",
       "      <td>0</td>\n",
       "      <td>0</td>\n",
       "      <td>2</td>\n",
       "      <td>0</td>\n",
       "      <td>...</td>\n",
       "      <td>253.707942</td>\n",
       "      <td>345.257130</td>\n",
       "      <td>1.801976</td>\n",
       "      <td>124.143</td>\n",
       "      <td>-1.3584</td>\n",
       "      <td>3</td>\n",
       "      <td>2</td>\n",
       "      <td>60.95</td>\n",
       "      <td>0</td>\n",
       "      <td>c4758613</td>\n",
       "    </tr>\n",
       "    <tr>\n",
       "      <th>2</th>\n",
       "      <td>0</td>\n",
       "      <td>0</td>\n",
       "      <td>0</td>\n",
       "      <td>0</td>\n",
       "      <td>0</td>\n",
       "      <td>0</td>\n",
       "      <td>0</td>\n",
       "      <td>0</td>\n",
       "      <td>1</td>\n",
       "      <td>1</td>\n",
       "      <td>...</td>\n",
       "      <td>389.501935</td>\n",
       "      <td>427.557546</td>\n",
       "      <td>1.989185</td>\n",
       "      <td>121.139</td>\n",
       "      <td>-0.8106</td>\n",
       "      <td>2</td>\n",
       "      <td>1</td>\n",
       "      <td>23.24</td>\n",
       "      <td>0</td>\n",
       "      <td>8e4b1d9a</td>\n",
       "    </tr>\n",
       "    <tr>\n",
       "      <th>3</th>\n",
       "      <td>0</td>\n",
       "      <td>0</td>\n",
       "      <td>0</td>\n",
       "      <td>0</td>\n",
       "      <td>0</td>\n",
       "      <td>0</td>\n",
       "      <td>1</td>\n",
       "      <td>0</td>\n",
       "      <td>2</td>\n",
       "      <td>0</td>\n",
       "      <td>...</td>\n",
       "      <td>264.569528</td>\n",
       "      <td>398.755261</td>\n",
       "      <td>1.921451</td>\n",
       "      <td>126.155</td>\n",
       "      <td>0.3463</td>\n",
       "      <td>2</td>\n",
       "      <td>1</td>\n",
       "      <td>37.30</td>\n",
       "      <td>0</td>\n",
       "      <td>ab4ec102</td>\n",
       "    </tr>\n",
       "    <tr>\n",
       "      <th>4</th>\n",
       "      <td>0</td>\n",
       "      <td>0</td>\n",
       "      <td>0</td>\n",
       "      <td>0</td>\n",
       "      <td>0</td>\n",
       "      <td>0</td>\n",
       "      <td>0</td>\n",
       "      <td>0</td>\n",
       "      <td>1</td>\n",
       "      <td>0</td>\n",
       "      <td>...</td>\n",
       "      <td>472.605173</td>\n",
       "      <td>552.977010</td>\n",
       "      <td>2.132529</td>\n",
       "      <td>127.099</td>\n",
       "      <td>-0.1910</td>\n",
       "      <td>4</td>\n",
       "      <td>1</td>\n",
       "      <td>55.40</td>\n",
       "      <td>1</td>\n",
       "      <td>dd1317ea</td>\n",
       "    </tr>\n",
       "  </tbody>\n",
       "</table>\n",
       "<p>5 rows × 3178 columns</p>\n",
       "</div>"
      ],
      "text/plain": [
       "   0  1  2  3  4  5  6  7  8  9    ...           3168        3169      3170  \\\n",
       "0  0  0  0  0  0  0  0  0  4  0    ...     639.301885  674.304907  2.427349   \n",
       "1  0  0  0  0  0  0  0  0  2  0    ...     253.707942  345.257130  1.801976   \n",
       "2  0  0  0  0  0  0  0  0  1  1    ...     389.501935  427.557546  1.989185   \n",
       "3  0  0  0  0  0  0  1  0  2  0    ...     264.569528  398.755261  1.921451   \n",
       "4  0  0  0  0  0  0  0  0  1  0    ...     472.605173  552.977010  2.132529   \n",
       "\n",
       "      3171    3172  3173  3174   3175  3176        id  \n",
       "0  129.159 -0.8904     3     2  51.40     2  c8834c14  \n",
       "1  124.143 -1.3584     3     2  60.95     0  c4758613  \n",
       "2  121.139 -0.8106     2     1  23.24     0  8e4b1d9a  \n",
       "3  126.155  0.3463     2     1  37.30     0  ab4ec102  \n",
       "4  127.099 -0.1910     4     1  55.40     1  dd1317ea  \n",
       "\n",
       "[5 rows x 3178 columns]"
      ]
     },
     "execution_count": 6,
     "metadata": {},
     "output_type": "execute_result"
    }
   ],
   "source": [
    "train_data.head()"
   ]
  },
  {
   "cell_type": "code",
   "execution_count": 12,
   "metadata": {},
   "outputs": [],
   "source": [
    "Train = pd.merge(train_data,label,on='id')"
   ]
  },
  {
   "cell_type": "code",
   "execution_count": 14,
   "metadata": {},
   "outputs": [
    {
     "data": {
      "text/html": [
       "<div>\n",
       "<style scoped>\n",
       "    .dataframe tbody tr th:only-of-type {\n",
       "        vertical-align: middle;\n",
       "    }\n",
       "\n",
       "    .dataframe tbody tr th {\n",
       "        vertical-align: top;\n",
       "    }\n",
       "\n",
       "    .dataframe thead th {\n",
       "        text-align: right;\n",
       "    }\n",
       "</style>\n",
       "<table border=\"1\" class=\"dataframe\">\n",
       "  <thead>\n",
       "    <tr style=\"text-align: right;\">\n",
       "      <th></th>\n",
       "      <th>id</th>\n",
       "      <th>p1</th>\n",
       "      <th>p2</th>\n",
       "      <th>p3</th>\n",
       "      <th>p4</th>\n",
       "      <th>p5</th>\n",
       "      <th>p6</th>\n",
       "    </tr>\n",
       "  </thead>\n",
       "  <tbody>\n",
       "    <tr>\n",
       "      <th>0</th>\n",
       "      <td>45ec2bbe</td>\n",
       "      <td>1.6866</td>\n",
       "      <td>-0.2340</td>\n",
       "      <td>0.0777</td>\n",
       "      <td>0.184867</td>\n",
       "      <td>-387.077548</td>\n",
       "      <td>-387.069843</td>\n",
       "    </tr>\n",
       "    <tr>\n",
       "      <th>1</th>\n",
       "      <td>530775c3</td>\n",
       "      <td>1.2997</td>\n",
       "      <td>-0.2518</td>\n",
       "      <td>0.0232</td>\n",
       "      <td>0.170199</td>\n",
       "      <td>-440.300227</td>\n",
       "      <td>-440.290746</td>\n",
       "    </tr>\n",
       "    <tr>\n",
       "      <th>2</th>\n",
       "      <td>4ca38b2c</td>\n",
       "      <td>3.6442</td>\n",
       "      <td>-0.2436</td>\n",
       "      <td>-0.0062</td>\n",
       "      <td>0.137677</td>\n",
       "      <td>-380.868636</td>\n",
       "      <td>-380.860872</td>\n",
       "    </tr>\n",
       "    <tr>\n",
       "      <th>3</th>\n",
       "      <td>630fe593</td>\n",
       "      <td>6.7048</td>\n",
       "      <td>-0.2374</td>\n",
       "      <td>0.0374</td>\n",
       "      <td>0.172693</td>\n",
       "      <td>-440.302592</td>\n",
       "      <td>-440.293710</td>\n",
       "    </tr>\n",
       "    <tr>\n",
       "      <th>4</th>\n",
       "      <td>b4812aaf</td>\n",
       "      <td>1.4201</td>\n",
       "      <td>-0.1824</td>\n",
       "      <td>0.0389</td>\n",
       "      <td>0.135641</td>\n",
       "      <td>-455.179317</td>\n",
       "      <td>-455.169936</td>\n",
       "    </tr>\n",
       "  </tbody>\n",
       "</table>\n",
       "</div>"
      ],
      "text/plain": [
       "         id      p1      p2      p3        p4          p5          p6\n",
       "0  45ec2bbe  1.6866 -0.2340  0.0777  0.184867 -387.077548 -387.069843\n",
       "1  530775c3  1.2997 -0.2518  0.0232  0.170199 -440.300227 -440.290746\n",
       "2  4ca38b2c  3.6442 -0.2436 -0.0062  0.137677 -380.868636 -380.860872\n",
       "3  630fe593  6.7048 -0.2374  0.0374  0.172693 -440.302592 -440.293710\n",
       "4  b4812aaf  1.4201 -0.1824  0.0389  0.135641 -455.179317 -455.169936"
      ]
     },
     "execution_count": 14,
     "metadata": {},
     "output_type": "execute_result"
    }
   ],
   "source": [
    "label.head()"
   ]
  },
  {
   "cell_type": "code",
   "execution_count": 15,
   "metadata": {},
   "outputs": [
    {
     "data": {
      "text/html": [
       "<div>\n",
       "<style scoped>\n",
       "    .dataframe tbody tr th:only-of-type {\n",
       "        vertical-align: middle;\n",
       "    }\n",
       "\n",
       "    .dataframe tbody tr th {\n",
       "        vertical-align: top;\n",
       "    }\n",
       "\n",
       "    .dataframe thead th {\n",
       "        text-align: right;\n",
       "    }\n",
       "</style>\n",
       "<table border=\"1\" class=\"dataframe\">\n",
       "  <thead>\n",
       "    <tr style=\"text-align: right;\">\n",
       "      <th></th>\n",
       "      <th>id</th>\n",
       "      <th>p1</th>\n",
       "      <th>p2</th>\n",
       "      <th>p3</th>\n",
       "      <th>p4</th>\n",
       "      <th>p5</th>\n",
       "      <th>p6</th>\n",
       "    </tr>\n",
       "  </thead>\n",
       "  <tbody>\n",
       "    <tr>\n",
       "      <th>18990</th>\n",
       "      <td>c8834c14</td>\n",
       "      <td>1.1804</td>\n",
       "      <td>-0.2437</td>\n",
       "      <td>0.0576</td>\n",
       "      <td>0.170321</td>\n",
       "      <td>-440.223611</td>\n",
       "      <td>-440.214222</td>\n",
       "    </tr>\n",
       "  </tbody>\n",
       "</table>\n",
       "</div>"
      ],
      "text/plain": [
       "             id      p1      p2      p3        p4          p5          p6\n",
       "18990  c8834c14  1.1804 -0.2437  0.0576  0.170321 -440.223611 -440.214222"
      ]
     },
     "execution_count": 15,
     "metadata": {},
     "output_type": "execute_result"
    }
   ],
   "source": [
    "label[label['id'].isin(['c8834c14'])]"
   ]
  },
  {
   "cell_type": "code",
   "execution_count": 13,
   "metadata": {},
   "outputs": [
    {
     "data": {
      "text/html": [
       "<div>\n",
       "<style scoped>\n",
       "    .dataframe tbody tr th:only-of-type {\n",
       "        vertical-align: middle;\n",
       "    }\n",
       "\n",
       "    .dataframe tbody tr th {\n",
       "        vertical-align: top;\n",
       "    }\n",
       "\n",
       "    .dataframe thead th {\n",
       "        text-align: right;\n",
       "    }\n",
       "</style>\n",
       "<table border=\"1\" class=\"dataframe\">\n",
       "  <thead>\n",
       "    <tr style=\"text-align: right;\">\n",
       "      <th></th>\n",
       "      <th>0</th>\n",
       "      <th>1</th>\n",
       "      <th>2</th>\n",
       "      <th>3</th>\n",
       "      <th>4</th>\n",
       "      <th>5</th>\n",
       "      <th>6</th>\n",
       "      <th>7</th>\n",
       "      <th>8</th>\n",
       "      <th>9</th>\n",
       "      <th>...</th>\n",
       "      <th>3174</th>\n",
       "      <th>3175</th>\n",
       "      <th>3176</th>\n",
       "      <th>id</th>\n",
       "      <th>p1</th>\n",
       "      <th>p2</th>\n",
       "      <th>p3</th>\n",
       "      <th>p4</th>\n",
       "      <th>p5</th>\n",
       "      <th>p6</th>\n",
       "    </tr>\n",
       "  </thead>\n",
       "  <tbody>\n",
       "    <tr>\n",
       "      <th>0</th>\n",
       "      <td>0</td>\n",
       "      <td>0</td>\n",
       "      <td>0</td>\n",
       "      <td>0</td>\n",
       "      <td>0</td>\n",
       "      <td>0</td>\n",
       "      <td>0</td>\n",
       "      <td>0</td>\n",
       "      <td>4</td>\n",
       "      <td>0</td>\n",
       "      <td>...</td>\n",
       "      <td>2</td>\n",
       "      <td>51.40</td>\n",
       "      <td>2</td>\n",
       "      <td>c8834c14</td>\n",
       "      <td>1.1804</td>\n",
       "      <td>-0.2437</td>\n",
       "      <td>0.0576</td>\n",
       "      <td>0.170321</td>\n",
       "      <td>-440.223611</td>\n",
       "      <td>-440.214222</td>\n",
       "    </tr>\n",
       "    <tr>\n",
       "      <th>1</th>\n",
       "      <td>0</td>\n",
       "      <td>0</td>\n",
       "      <td>0</td>\n",
       "      <td>0</td>\n",
       "      <td>0</td>\n",
       "      <td>0</td>\n",
       "      <td>0</td>\n",
       "      <td>0</td>\n",
       "      <td>2</td>\n",
       "      <td>0</td>\n",
       "      <td>...</td>\n",
       "      <td>2</td>\n",
       "      <td>60.95</td>\n",
       "      <td>0</td>\n",
       "      <td>c4758613</td>\n",
       "      <td>3.1103</td>\n",
       "      <td>-0.2424</td>\n",
       "      <td>-0.0294</td>\n",
       "      <td>0.138296</td>\n",
       "      <td>-417.984094</td>\n",
       "      <td>-417.976838</td>\n",
       "    </tr>\n",
       "    <tr>\n",
       "      <th>2</th>\n",
       "      <td>0</td>\n",
       "      <td>0</td>\n",
       "      <td>0</td>\n",
       "      <td>0</td>\n",
       "      <td>0</td>\n",
       "      <td>0</td>\n",
       "      <td>0</td>\n",
       "      <td>0</td>\n",
       "      <td>1</td>\n",
       "      <td>1</td>\n",
       "      <td>...</td>\n",
       "      <td>1</td>\n",
       "      <td>23.24</td>\n",
       "      <td>0</td>\n",
       "      <td>8e4b1d9a</td>\n",
       "      <td>1.2346</td>\n",
       "      <td>-0.2479</td>\n",
       "      <td>0.0159</td>\n",
       "      <td>0.123959</td>\n",
       "      <td>-400.647248</td>\n",
       "      <td>-400.639696</td>\n",
       "    </tr>\n",
       "    <tr>\n",
       "      <th>3</th>\n",
       "      <td>0</td>\n",
       "      <td>0</td>\n",
       "      <td>0</td>\n",
       "      <td>0</td>\n",
       "      <td>0</td>\n",
       "      <td>0</td>\n",
       "      <td>1</td>\n",
       "      <td>0</td>\n",
       "      <td>2</td>\n",
       "      <td>0</td>\n",
       "      <td>...</td>\n",
       "      <td>1</td>\n",
       "      <td>37.30</td>\n",
       "      <td>0</td>\n",
       "      <td>ab4ec102</td>\n",
       "      <td>3.2361</td>\n",
       "      <td>-0.2341</td>\n",
       "      <td>-0.0176</td>\n",
       "      <td>0.157146</td>\n",
       "      <td>-423.022821</td>\n",
       "      <td>-423.013580</td>\n",
       "    </tr>\n",
       "    <tr>\n",
       "      <th>4</th>\n",
       "      <td>0</td>\n",
       "      <td>0</td>\n",
       "      <td>0</td>\n",
       "      <td>0</td>\n",
       "      <td>0</td>\n",
       "      <td>0</td>\n",
       "      <td>0</td>\n",
       "      <td>0</td>\n",
       "      <td>1</td>\n",
       "      <td>0</td>\n",
       "      <td>...</td>\n",
       "      <td>1</td>\n",
       "      <td>55.40</td>\n",
       "      <td>1</td>\n",
       "      <td>dd1317ea</td>\n",
       "      <td>3.8822</td>\n",
       "      <td>-0.2524</td>\n",
       "      <td>-0.0655</td>\n",
       "      <td>0.102003</td>\n",
       "      <td>-473.888949</td>\n",
       "      <td>-473.881271</td>\n",
       "    </tr>\n",
       "  </tbody>\n",
       "</table>\n",
       "<p>5 rows × 3184 columns</p>\n",
       "</div>"
      ],
      "text/plain": [
       "   0  1  2  3  4  5  6  7  8  9     ...      3174   3175  3176        id  \\\n",
       "0  0  0  0  0  0  0  0  0  4  0     ...         2  51.40     2  c8834c14   \n",
       "1  0  0  0  0  0  0  0  0  2  0     ...         2  60.95     0  c4758613   \n",
       "2  0  0  0  0  0  0  0  0  1  1     ...         1  23.24     0  8e4b1d9a   \n",
       "3  0  0  0  0  0  0  1  0  2  0     ...         1  37.30     0  ab4ec102   \n",
       "4  0  0  0  0  0  0  0  0  1  0     ...         1  55.40     1  dd1317ea   \n",
       "\n",
       "       p1      p2      p3        p4          p5          p6  \n",
       "0  1.1804 -0.2437  0.0576  0.170321 -440.223611 -440.214222  \n",
       "1  3.1103 -0.2424 -0.0294  0.138296 -417.984094 -417.976838  \n",
       "2  1.2346 -0.2479  0.0159  0.123959 -400.647248 -400.639696  \n",
       "3  3.2361 -0.2341 -0.0176  0.157146 -423.022821 -423.013580  \n",
       "4  3.8822 -0.2524 -0.0655  0.102003 -473.888949 -473.881271  \n",
       "\n",
       "[5 rows x 3184 columns]"
      ]
     },
     "execution_count": 13,
     "metadata": {},
     "output_type": "execute_result"
    }
   ],
   "source": [
    "Train.head()"
   ]
  },
  {
   "cell_type": "code",
   "execution_count": 25,
   "metadata": {},
   "outputs": [
    {
     "data": {
      "text/html": [
       "<div>\n",
       "<style scoped>\n",
       "    .dataframe tbody tr th:only-of-type {\n",
       "        vertical-align: middle;\n",
       "    }\n",
       "\n",
       "    .dataframe tbody tr th {\n",
       "        vertical-align: top;\n",
       "    }\n",
       "\n",
       "    .dataframe thead th {\n",
       "        text-align: right;\n",
       "    }\n",
       "</style>\n",
       "<table border=\"1\" class=\"dataframe\">\n",
       "  <thead>\n",
       "    <tr style=\"text-align: right;\">\n",
       "      <th></th>\n",
       "      <th>0</th>\n",
       "      <th>1</th>\n",
       "      <th>2</th>\n",
       "      <th>3</th>\n",
       "      <th>4</th>\n",
       "      <th>5</th>\n",
       "      <th>6</th>\n",
       "      <th>7</th>\n",
       "      <th>8</th>\n",
       "      <th>9</th>\n",
       "      <th>...</th>\n",
       "      <th>3168</th>\n",
       "      <th>3169</th>\n",
       "      <th>3170</th>\n",
       "      <th>3171</th>\n",
       "      <th>3172</th>\n",
       "      <th>3173</th>\n",
       "      <th>3174</th>\n",
       "      <th>3175</th>\n",
       "      <th>3176</th>\n",
       "      <th>id</th>\n",
       "    </tr>\n",
       "  </thead>\n",
       "  <tbody>\n",
       "    <tr>\n",
       "      <th>0</th>\n",
       "      <td>0</td>\n",
       "      <td>0</td>\n",
       "      <td>0</td>\n",
       "      <td>0</td>\n",
       "      <td>0</td>\n",
       "      <td>0</td>\n",
       "      <td>1</td>\n",
       "      <td>0</td>\n",
       "      <td>0</td>\n",
       "      <td>0</td>\n",
       "      <td>...</td>\n",
       "      <td>266.664496</td>\n",
       "      <td>344.876756</td>\n",
       "      <td>1.786485</td>\n",
       "      <td>112.092</td>\n",
       "      <td>-1.42970</td>\n",
       "      <td>5</td>\n",
       "      <td>0</td>\n",
       "      <td>60.67</td>\n",
       "      <td>0</td>\n",
       "      <td>66b19220</td>\n",
       "    </tr>\n",
       "    <tr>\n",
       "      <th>1</th>\n",
       "      <td>0</td>\n",
       "      <td>0</td>\n",
       "      <td>0</td>\n",
       "      <td>0</td>\n",
       "      <td>0</td>\n",
       "      <td>0</td>\n",
       "      <td>0</td>\n",
       "      <td>0</td>\n",
       "      <td>3</td>\n",
       "      <td>0</td>\n",
       "      <td>...</td>\n",
       "      <td>423.242443</td>\n",
       "      <td>435.415219</td>\n",
       "      <td>2.029533</td>\n",
       "      <td>123.155</td>\n",
       "      <td>0.59510</td>\n",
       "      <td>2</td>\n",
       "      <td>1</td>\n",
       "      <td>29.10</td>\n",
       "      <td>0</td>\n",
       "      <td>bed4af38</td>\n",
       "    </tr>\n",
       "    <tr>\n",
       "      <th>2</th>\n",
       "      <td>0</td>\n",
       "      <td>0</td>\n",
       "      <td>0</td>\n",
       "      <td>0</td>\n",
       "      <td>0</td>\n",
       "      <td>0</td>\n",
       "      <td>1</td>\n",
       "      <td>0</td>\n",
       "      <td>1</td>\n",
       "      <td>0</td>\n",
       "      <td>...</td>\n",
       "      <td>240.376174</td>\n",
       "      <td>346.247541</td>\n",
       "      <td>1.829334</td>\n",
       "      <td>113.120</td>\n",
       "      <td>-0.39458</td>\n",
       "      <td>4</td>\n",
       "      <td>2</td>\n",
       "      <td>61.80</td>\n",
       "      <td>1</td>\n",
       "      <td>96f5658c</td>\n",
       "    </tr>\n",
       "    <tr>\n",
       "      <th>3</th>\n",
       "      <td>0</td>\n",
       "      <td>0</td>\n",
       "      <td>0</td>\n",
       "      <td>0</td>\n",
       "      <td>0</td>\n",
       "      <td>0</td>\n",
       "      <td>3</td>\n",
       "      <td>0</td>\n",
       "      <td>1</td>\n",
       "      <td>0</td>\n",
       "      <td>...</td>\n",
       "      <td>438.281302</td>\n",
       "      <td>513.076246</td>\n",
       "      <td>2.230665</td>\n",
       "      <td>118.176</td>\n",
       "      <td>0.79220</td>\n",
       "      <td>2</td>\n",
       "      <td>1</td>\n",
       "      <td>29.46</td>\n",
       "      <td>3</td>\n",
       "      <td>d7031639</td>\n",
       "    </tr>\n",
       "    <tr>\n",
       "      <th>4</th>\n",
       "      <td>0</td>\n",
       "      <td>0</td>\n",
       "      <td>0</td>\n",
       "      <td>0</td>\n",
       "      <td>0</td>\n",
       "      <td>0</td>\n",
       "      <td>1</td>\n",
       "      <td>0</td>\n",
       "      <td>5</td>\n",
       "      <td>0</td>\n",
       "      <td>...</td>\n",
       "      <td>333.248296</td>\n",
       "      <td>473.313759</td>\n",
       "      <td>2.143609</td>\n",
       "      <td>123.199</td>\n",
       "      <td>2.48038</td>\n",
       "      <td>1</td>\n",
       "      <td>0</td>\n",
       "      <td>23.79</td>\n",
       "      <td>2</td>\n",
       "      <td>1fdd8f3c</td>\n",
       "    </tr>\n",
       "  </tbody>\n",
       "</table>\n",
       "<p>5 rows × 3178 columns</p>\n",
       "</div>"
      ],
      "text/plain": [
       "   0  1  2  3  4  5  6  7  8  9    ...           3168        3169      3170  \\\n",
       "0  0  0  0  0  0  0  1  0  0  0    ...     266.664496  344.876756  1.786485   \n",
       "1  0  0  0  0  0  0  0  0  3  0    ...     423.242443  435.415219  2.029533   \n",
       "2  0  0  0  0  0  0  1  0  1  0    ...     240.376174  346.247541  1.829334   \n",
       "3  0  0  0  0  0  0  3  0  1  0    ...     438.281302  513.076246  2.230665   \n",
       "4  0  0  0  0  0  0  1  0  5  0    ...     333.248296  473.313759  2.143609   \n",
       "\n",
       "      3171     3172  3173  3174   3175  3176        id  \n",
       "0  112.092 -1.42970     5     0  60.67     0  66b19220  \n",
       "1  123.155  0.59510     2     1  29.10     0  bed4af38  \n",
       "2  113.120 -0.39458     4     2  61.80     1  96f5658c  \n",
       "3  118.176  0.79220     2     1  29.46     3  d7031639  \n",
       "4  123.199  2.48038     1     0  23.79     2  1fdd8f3c  \n",
       "\n",
       "[5 rows x 3178 columns]"
      ]
     },
     "execution_count": 25,
     "metadata": {},
     "output_type": "execute_result"
    }
   ],
   "source": [
    "test_data.head()"
   ]
  },
  {
   "cell_type": "markdown",
   "metadata": {},
   "source": [
    "### 2. 分割数据"
   ]
  },
  {
   "cell_type": "code",
   "execution_count": 63,
   "metadata": {},
   "outputs": [],
   "source": [
    "X_train = Train.iloc[:,:3177]\n",
    "y_train = Train.iloc[:,3178:3184]\n",
    "X_test = test_data.iloc[:,:3177]"
   ]
  },
  {
   "cell_type": "code",
   "execution_count": 142,
   "metadata": {},
   "outputs": [],
   "source": [
    "seed = 10\n",
    "train_x, valid_x, train_y, valid_y = train_test_split(X_train, y_train, test_size=0.3, random_state=seed)\n",
    "\n",
    "# ans = pd.DataFrame(ans)\n",
    "# train_x = pd.DataFrame(train_x)\n",
    "# valid_x = pd.DataFrame(valid_x)\n",
    "# train_y = pd.DataFrame(train_y)\n",
    "# valid_y = pd.DataFrame(valid_y)\n",
    "\n",
    "# train_x.to_csv(\"train_feature.csv\")\n",
    "# valid_x.to_csv(\"valid_feature.csv\")\n",
    "# train_y.to_csv(\"train_label.csv\")\n",
    "# valid_y.to_csv(\"valid_label.csv\")\n",
    "\n",
    "# ax1 = sns.distplot(ans.iloc[:, 2])\n",
    "# ax2 = sns.distplot(train_y.iloc[:, 2])"
   ]
  },
  {
   "cell_type": "code",
   "execution_count": 143,
   "metadata": {
    "collapsed": true
   },
   "outputs": [
    {
     "data": {
      "image/png": "[encoded data removed]",
      "text/plain": [
       "<Figure size 432x288 with 1 Axes>"
      ]
     },
     "metadata": {},
     "output_type": "display_data"
    }
   ],
   "source": [
    "ax = sns.distplot(y_train.iloc[:,2])"
   ]
  },
  {
   "cell_type": "code",
   "execution_count": 144,
   "metadata": {
    "collapsed": true
   },
   "outputs": [
    {
     "data": {
      "image/png": "[encoded data removed]",
      "text/plain": [
       "<Figure size 432x288 with 1 Axes>"
      ]
     },
     "metadata": {},
     "output_type": "display_data"
    }
   ],
   "source": [
    "ax = sns.distplot(train_y.iloc[:,2])"
   ]
  },
  {
   "cell_type": "code",
   "execution_count": 145,
   "metadata": {
    "collapsed": true
   },
   "outputs": [
    {
     "data": {
      "image/png": "[encoded data removed]",
      "text/plain": [
       "<Figure size 432x288 with 1 Axes>"
      ]
     },
     "metadata": {},
     "output_type": "display_data"
    }
   ],
   "source": [
    "ax = sns.distplot(valid_y.iloc[:,2])"
   ]
  },
  {
   "cell_type": "code",
   "execution_count": 113,
   "metadata": {},
   "outputs": [
    {
     "name": "stdout",
     "output_type": "stream",
     "text": [
      "(79267, 6)\n",
      "(55486, 6)\n",
      "(23781, 6)\n"
     ]
    }
   ],
   "source": [
    "print(y_train.shape)\n",
    "print(train_y.shape)\n",
    "print(valid_y.shape)"
   ]
  },
  {
   "cell_type": "markdown",
   "metadata": {},
   "source": [
    "##### 数据分桶"
   ]
  },
  {
   "cell_type": "code",
   "execution_count": 124,
   "metadata": {},
   "outputs": [],
   "source": [
    "y = y_train.iloc[:,2].values\n",
    "group=pd.cut(y,20,right=False)#分组区间,长度20\n",
    "counts=group.value_counts()#series,区间-个数\n",
    "freq_1 = list(counts/counts.sum())"
   ]
  },
  {
   "cell_type": "code",
   "execution_count": 125,
   "metadata": {},
   "outputs": [],
   "source": [
    "y = train_y.iloc[:,2].values\n",
    "group=pd.cut(y,20,right=False)#分组区间,长度20\n",
    "counts=group.value_counts()#series,区间-个数\n",
    "freq_2 = list(counts/counts.sum())"
   ]
  },
  {
   "cell_type": "code",
   "execution_count": 126,
   "metadata": {},
   "outputs": [],
   "source": [
    "y = valid_y.iloc[:,2].values\n",
    "group=pd.cut(y,20,right=False)#分组区间,长度20\n",
    "counts=group.value_counts()#series,区间-个数\n",
    "freq_3 = list(counts/counts.sum())"
   ]
  },
  {
   "cell_type": "code",
   "execution_count": 148,
   "metadata": {},
   "outputs": [
    {
     "name": "stdout",
     "output_type": "stream",
     "text": [
      "0.33479527012076654\n",
      "0.0\n"
     ]
    }
   ],
   "source": [
    "def kl_div(dis1, dis2):\n",
    "    assert (len(dis1) == len(dis2))\n",
    "    dis1 = np.array(dis1) + 1e-8\n",
    "    dis2 = np.array(dis2) + 1e-8\n",
    "    kl = 0\n",
    "    for i in range(len(dis1)):\n",
    "        kl += dis1[i] * np.log(dis1[i] / dis2[i])\n",
    "    return kl\n",
    "\n",
    "\n",
    "def js_div(dis1, dis2):\n",
    "    assert (len(dis1) == len(dis2))\n",
    "    dis1 = np.array(dis1)\n",
    "    dis2 = np.array(dis2)\n",
    "    mid = (dis1 + dis2) / 2\n",
    "    return 0.5 * kl_div(dis1, mid) + 0.5 * kl_div(dis2, mid)\n",
    "\n",
    "\n",
    "print(kl_div([0.2, 0.2, 0.2, 0.2, 0.2], [0.1, 0.1, 0.1, 0.1, 0.6]))\n",
    "print(js_div(np.array([0.2, 0.2, 0.2, 0.2, 0.2]), np.array([0.2, 0.2, 0.2, 0.2, 0.2])))"
   ]
  },
  {
   "cell_type": "code",
   "execution_count": 132,
   "metadata": {},
   "outputs": [
    {
     "name": "stdout",
     "output_type": "stream",
     "text": [
      "0.012394330315237777\n"
     ]
    }
   ],
   "source": [
    "l1 = kl_div(freq_1, freq_2)\n",
    "l2 = kl_div(freq_1, freq_3)\n",
    "l3 = kl_div(freq_2, freq_2)\n",
    "l = (l1+l2+l3)/3\n",
    "print(l)"
   ]
  },
  {
   "cell_type": "code",
   "execution_count": 133,
   "metadata": {},
   "outputs": [
    {
     "name": "stdout",
     "output_type": "stream",
     "text": [
      "0.0034722839265971736\n"
     ]
    }
   ],
   "source": [
    "l1 = js_div(freq_1, freq_2)\n",
    "l2 = js_div(freq_1, freq_3)\n",
    "l3 = js_div(freq_2, freq_2)\n",
    "l = (l1+l2+l3)/3\n",
    "print(l)"
   ]
  },
  {
   "cell_type": "markdown",
   "metadata": {},
   "source": [
    "##### 找最好的 seed 使得 l 最小"
   ]
  },
  {
   "cell_type": "code",
   "execution_count": 146,
   "metadata": {},
   "outputs": [],
   "source": [
    "y = y_train.iloc[:,2].values\n",
    "group=pd.cut(y,500,right=False)#分组区间,长度20\n",
    "counts=group.value_counts()#series,区间-个数\n",
    "freq_1 = list(counts/counts.sum())"
   ]
  },
  {
   "cell_type": "code",
   "execution_count": 147,
   "metadata": {},
   "outputs": [],
   "source": [
    "dic = {}\n",
    "for seed in range(50):\n",
    "    train_x, valid_x, train_y, valid_y = train_test_split(X_train, y_train, test_size=0.3, random_state=seed)\n",
    "    y = train_y.iloc[:,2].values\n",
    "    group=pd.cut(y,500,right=False)#分组区间,长度20\n",
    "    counts=group.value_counts()#series,区间-个数\n",
    "    freq_2 = list(counts/counts.sum())\n",
    "    \n",
    "    y = valid_y.iloc[:,2].values\n",
    "    group=pd.cut(y,500,right=False)#分组区间,长度20\n",
    "    counts=group.value_counts()#series,区间-个数\n",
    "    freq_3 = list(counts/counts.sum())\n",
    "    \n",
    "    l1 = kl_div(freq_1, freq_2)\n",
    "    l2 = kl_div(freq_1, freq_3)\n",
    "    l3 = kl_div(freq_2, freq_2)\n",
    "    l = (l1+l2+l3)/3\n",
    "    dic[seed] = l"
   ]
  },
  {
   "cell_type": "code",
   "execution_count": 140,
   "metadata": {},
   "outputs": [],
   "source": [
    "seed_and_l=sorted(dic.items(),key=lambda x:x[1])"
   ]
  },
  {
   "cell_type": "code",
   "execution_count": 149,
   "metadata": {},
   "outputs": [
    {
     "data": {
      "text/plain": [
       "[(10, 0.009727756175352452),\n",
       " (38, 0.010304754456527464),\n",
       " (12, 0.011217848265760893),\n",
       " (6, 0.011775455126363845),\n",
       " (14, 0.011908982267531563),\n",
       " (3, 0.012040163677053245),\n",
       " (9, 0.01213720281132945),\n",
       " (31, 0.012235618719792249),\n",
       " (16, 0.01229410912074362),\n",
       " (1, 0.012394330315237777),\n",
       " (17, 0.012470542187328565),\n",
       " (18, 0.012619391926151765),\n",
       " (40, 0.012624242648864336),\n",
       " (42, 0.012816562629310017),\n",
       " (49, 0.012827403193730798),\n",
       " (41, 0.012879556291089465),\n",
       " (2, 0.01307761790173588),\n",
       " (21, 0.013230966209380884),\n",
       " (27, 0.013328220703499845),\n",
       " (26, 0.013819054289890826),\n",
       " (28, 0.014115776993638482),\n",
       " (19, 0.014554132433707628),\n",
       " (44, 0.014586309084398695),\n",
       " (24, 0.01481958669692475),\n",
       " (7, 0.014892369369666897),\n",
       " (45, 0.015621534417844139),\n",
       " (34, 0.01586351137249909),\n",
       " (33, 0.015885408803432477),\n",
       " (47, 0.016124330233837487),\n",
       " (20, 0.016329378085666844),\n",
       " (4, 0.016419301761965096),\n",
       " (15, 0.016435912708138694),\n",
       " (11, 0.01666898229818321),\n",
       " (48, 0.01707627233896708),\n",
       " (30, 0.017740061271324464),\n",
       " (0, 0.017932089557229195),\n",
       " (36, 0.01817841690429867),\n",
       " (43, 0.018510642767275418),\n",
       " (5, 0.01862533874519739),\n",
       " (35, 0.018687040422755288),\n",
       " (25, 0.019050185352463465),\n",
       " (39, 0.019743369948682674),\n",
       " (37, 0.020010484998595337),\n",
       " (23, 0.020431979926384316),\n",
       " (46, 0.02103888568840342),\n",
       " (8, 0.021552073537793173),\n",
       " (22, 0.023535386451926876),\n",
       " (32, 0.023999343483094238),\n",
       " (29, 0.027306182134705207),\n",
       " (13, 0.03417748782084049)]"
      ]
     },
     "execution_count": 149,
     "metadata": {},
     "output_type": "execute_result"
    }
   ],
   "source": [
    "seed_and_l"
   ]
  },
  {
   "cell_type": "code",
   "execution_count": null,
   "metadata": {},
   "outputs": [],
   "source": []
  },
  {
   "cell_type": "code",
   "execution_count": null,
   "metadata": {},
   "outputs": [],
   "source": []
  },
  {
   "cell_type": "markdown",
   "metadata": {},
   "source": [
    "### 3. 数据分析"
   ]
  },
  {
   "cell_type": "markdown",
   "metadata": {},
   "source": [
    "##### 观察缺失值"
   ]
  },
  {
   "cell_type": "code",
   "execution_count": 65,
   "metadata": {
    "collapsed": true
   },
   "outputs": [
    {
     "name": "stderr",
     "output_type": "stream",
     "text": [
      "/root/anaconda3/lib/python3.6/site-packages/ipykernel_launcher.py:4: FutureWarning: Sorting because non-concatenation axis is not aligned. A future version\n",
      "of pandas will change to not sort by default.\n",
      "\n",
      "To accept the future behavior, pass 'sort=True'.\n",
      "\n",
      "To retain the current behavior and silence the warning, pass sort=False\n",
      "\n",
      "  after removing the cwd from sys.path.\n"
     ]
    },
    {
     "data": {
      "text/html": [
       "<div>\n",
       "<style scoped>\n",
       "    .dataframe tbody tr th:only-of-type {\n",
       "        vertical-align: middle;\n",
       "    }\n",
       "\n",
       "    .dataframe tbody tr th {\n",
       "        vertical-align: top;\n",
       "    }\n",
       "\n",
       "    .dataframe thead th {\n",
       "        text-align: right;\n",
       "    }\n",
       "</style>\n",
       "<table border=\"1\" class=\"dataframe\">\n",
       "  <thead>\n",
       "    <tr style=\"text-align: right;\">\n",
       "      <th></th>\n",
       "      <th>Total</th>\n",
       "      <th>Percent</th>\n",
       "    </tr>\n",
       "  </thead>\n",
       "  <tbody>\n",
       "    <tr>\n",
       "      <th>0</th>\n",
       "      <td>0.0</td>\n",
       "      <td>0.0</td>\n",
       "    </tr>\n",
       "    <tr>\n",
       "      <th>1</th>\n",
       "      <td>0.0</td>\n",
       "      <td>0.0</td>\n",
       "    </tr>\n",
       "    <tr>\n",
       "      <th>10</th>\n",
       "      <td>0.0</td>\n",
       "      <td>0.0</td>\n",
       "    </tr>\n",
       "    <tr>\n",
       "      <th>100</th>\n",
       "      <td>0.0</td>\n",
       "      <td>0.0</td>\n",
       "    </tr>\n",
       "    <tr>\n",
       "      <th>1000</th>\n",
       "      <td>0.0</td>\n",
       "      <td>0.0</td>\n",
       "    </tr>\n",
       "    <tr>\n",
       "      <th>1001</th>\n",
       "      <td>0.0</td>\n",
       "      <td>0.0</td>\n",
       "    </tr>\n",
       "    <tr>\n",
       "      <th>1002</th>\n",
       "      <td>0.0</td>\n",
       "      <td>0.0</td>\n",
       "    </tr>\n",
       "    <tr>\n",
       "      <th>1003</th>\n",
       "      <td>0.0</td>\n",
       "      <td>0.0</td>\n",
       "    </tr>\n",
       "    <tr>\n",
       "      <th>1004</th>\n",
       "      <td>0.0</td>\n",
       "      <td>0.0</td>\n",
       "    </tr>\n",
       "    <tr>\n",
       "      <th>1005</th>\n",
       "      <td>0.0</td>\n",
       "      <td>0.0</td>\n",
       "    </tr>\n",
       "    <tr>\n",
       "      <th>1006</th>\n",
       "      <td>0.0</td>\n",
       "      <td>0.0</td>\n",
       "    </tr>\n",
       "    <tr>\n",
       "      <th>1007</th>\n",
       "      <td>0.0</td>\n",
       "      <td>0.0</td>\n",
       "    </tr>\n",
       "    <tr>\n",
       "      <th>1008</th>\n",
       "      <td>0.0</td>\n",
       "      <td>0.0</td>\n",
       "    </tr>\n",
       "    <tr>\n",
       "      <th>1009</th>\n",
       "      <td>0.0</td>\n",
       "      <td>0.0</td>\n",
       "    </tr>\n",
       "    <tr>\n",
       "      <th>101</th>\n",
       "      <td>0.0</td>\n",
       "      <td>0.0</td>\n",
       "    </tr>\n",
       "    <tr>\n",
       "      <th>1010</th>\n",
       "      <td>0.0</td>\n",
       "      <td>0.0</td>\n",
       "    </tr>\n",
       "    <tr>\n",
       "      <th>1011</th>\n",
       "      <td>0.0</td>\n",
       "      <td>0.0</td>\n",
       "    </tr>\n",
       "    <tr>\n",
       "      <th>1012</th>\n",
       "      <td>0.0</td>\n",
       "      <td>0.0</td>\n",
       "    </tr>\n",
       "    <tr>\n",
       "      <th>1013</th>\n",
       "      <td>0.0</td>\n",
       "      <td>0.0</td>\n",
       "    </tr>\n",
       "    <tr>\n",
       "      <th>1014</th>\n",
       "      <td>0.0</td>\n",
       "      <td>0.0</td>\n",
       "    </tr>\n",
       "  </tbody>\n",
       "</table>\n",
       "</div>"
      ],
      "text/plain": [
       "      Total  Percent\n",
       "0       0.0      0.0\n",
       "1       0.0      0.0\n",
       "10      0.0      0.0\n",
       "100     0.0      0.0\n",
       "1000    0.0      0.0\n",
       "1001    0.0      0.0\n",
       "1002    0.0      0.0\n",
       "1003    0.0      0.0\n",
       "1004    0.0      0.0\n",
       "1005    0.0      0.0\n",
       "1006    0.0      0.0\n",
       "1007    0.0      0.0\n",
       "1008    0.0      0.0\n",
       "1009    0.0      0.0\n",
       "101     0.0      0.0\n",
       "1010    0.0      0.0\n",
       "1011    0.0      0.0\n",
       "1012    0.0      0.0\n",
       "1013    0.0      0.0\n",
       "1014    0.0      0.0"
      ]
     },
     "execution_count": 65,
     "metadata": {},
     "output_type": "execute_result"
    }
   ],
   "source": [
    "# 没有缺失值\n",
    "total = X_train.isnull().sum().sort_values(ascending=False)\n",
    "percent = (X_train.isnull().sum()/Train.isnull().count()).sort_values(ascending=False)\n",
    "missing_data = pd.concat([total, percent], axis=1, keys=['Total', 'Percent'])\n",
    "missing_data.head(20)"
   ]
  },
  {
   "cell_type": "markdown",
   "metadata": {},
   "source": [
    "##### 去掉只含一个列的"
   ]
  },
  {
   "cell_type": "code",
   "execution_count": 71,
   "metadata": {},
   "outputs": [],
   "source": [
    "# 去掉只有一个值的列\n",
    "One_value_array = []\n",
    "for i in range(3177):\n",
    "    if len(X_train.iloc[:, i].value_counts()) == 1:\n",
    "        One_value_array.append(str(i))"
   ]
  },
  {
   "cell_type": "code",
   "execution_count": 69,
   "metadata": {},
   "outputs": [
    {
     "name": "stdout",
     "output_type": "stream",
     "text": [
      "51\n"
     ]
    }
   ],
   "source": [
    "print(len(One_value_array))"
   ]
  },
  {
   "cell_type": "code",
   "execution_count": 75,
   "metadata": {},
   "outputs": [],
   "source": [
    "X_train = X_train.drop(columns=One_value_array)\n",
    "X_test = X_test.drop(columns=One_value_array)"
   ]
  },
  {
   "cell_type": "code",
   "execution_count": 76,
   "metadata": {},
   "outputs": [
    {
     "data": {
      "text/plain": [
       "(79267, 3126)"
      ]
     },
     "execution_count": 76,
     "metadata": {},
     "output_type": "execute_result"
    }
   ],
   "source": [
    "X_train.shape"
   ]
  },
  {
   "cell_type": "code",
   "execution_count": 78,
   "metadata": {
    "collapsed": true
   },
   "outputs": [
    {
     "data": {
      "text/plain": [
       "0        1.1804\n",
       "1        3.1103\n",
       "2        1.2346\n",
       "3        3.2361\n",
       "4        3.8822\n",
       "5        0.5007\n",
       "6        1.6193\n",
       "7        1.7552\n",
       "8        0.8247\n",
       "9        4.9949\n",
       "10       2.3677\n",
       "11       3.2970\n",
       "12       4.2966\n",
       "13       2.7024\n",
       "14       1.1661\n",
       "15       2.3963\n",
       "16       1.4563\n",
       "17       1.3079\n",
       "18       2.1820\n",
       "19       1.4837\n",
       "20       1.3578\n",
       "21       3.4309\n",
       "22       3.6949\n",
       "23       1.6364\n",
       "24       2.5846\n",
       "25       5.0679\n",
       "26       2.1034\n",
       "27       1.8728\n",
       "28       2.4264\n",
       "29       2.2328\n",
       "          ...  \n",
       "79237    0.7548\n",
       "79238    4.0967\n",
       "79239    1.4995\n",
       "79240    5.7041\n",
       "79241    1.5677\n",
       "79242    1.4302\n",
       "79243    6.1016\n",
       "79244    2.5384\n",
       "79245    1.6304\n",
       "79246    3.2001\n",
       "79247    4.4021\n",
       "79248    4.4805\n",
       "79249    1.2869\n",
       "79250    2.3162\n",
       "79251    3.9318\n",
       "79252    1.6345\n",
       "79253    0.2476\n",
       "79254    1.1667\n",
       "79255    4.9468\n",
       "79256    4.2706\n",
       "79257    5.5479\n",
       "79258    1.0954\n",
       "79259    1.3268\n",
       "79260    1.4273\n",
       "79261    2.0163\n",
       "79262    3.1142\n",
       "79263    3.0037\n",
       "79264    0.9196\n",
       "79265    3.8351\n",
       "79266    3.6018\n",
       "Name: p1, Length: 79267, dtype: float64"
      ]
     },
     "execution_count": 78,
     "metadata": {},
     "output_type": "execute_result"
    }
   ],
   "source": [
    "y_train.iloc[:,0]"
   ]
  },
  {
   "cell_type": "markdown",
   "metadata": {},
   "source": [
    "##### label分布"
   ]
  },
  {
   "cell_type": "code",
   "execution_count": 85,
   "metadata": {},
   "outputs": [
    {
     "data": {
      "image/png": "[encoded data removed]",
      "text/plain": [
       "<Figure size 432x288 with 1 Axes>"
      ]
     },
     "metadata": {},
     "output_type": "display_data"
    }
   ],
   "source": [
    "ax = sns.distplot(y_train.iloc[:,0])"
   ]
  },
  {
   "cell_type": "code",
   "execution_count": 86,
   "metadata": {},
   "outputs": [
    {
     "data": {
      "image/png": "[encoded data removed]",
      "text/plain": [
       "<Figure size 432x288 with 1 Axes>"
      ]
     },
     "metadata": {},
     "output_type": "display_data"
    }
   ],
   "source": [
    "ax = sns.distplot(y_train.iloc[:,1])"
   ]
  },
  {
   "cell_type": "code",
   "execution_count": 87,
   "metadata": {},
   "outputs": [
    {
     "data": {
      "image/png": "[encoded data removed]",
      "text/plain": [
       "<Figure size 432x288 with 1 Axes>"
      ]
     },
     "metadata": {},
     "output_type": "display_data"
    }
   ],
   "source": [
    "ax = sns.distplot(y_train.iloc[:,2])"
   ]
  },
  {
   "cell_type": "code",
   "execution_count": 88,
   "metadata": {},
   "outputs": [
    {
     "data": {
      "image/png": "[encoded data removed]",
      "text/plain": [
       "<Figure size 432x288 with 1 Axes>"
      ]
     },
     "metadata": {},
     "output_type": "display_data"
    }
   ],
   "source": [
    "ax = sns.distplot(y_train.iloc[:,3])"
   ]
  },
  {
   "cell_type": "code",
   "execution_count": 89,
   "metadata": {},
   "outputs": [
    {
     "data": {
      "image/png": "[encoded data removed]",
      "text/plain": [
       "<Figure size 432x288 with 1 Axes>"
      ]
     },
     "metadata": {},
     "output_type": "display_data"
    }
   ],
   "source": [
    "ax = sns.distplot(y_train.iloc[:,4])"
   ]
  },
  {
   "cell_type": "code",
   "execution_count": 90,
   "metadata": {},
   "outputs": [
    {
     "data": {
      "image/png": "[encoded data removed]",
      "text/plain": [
       "<Figure size 432x288 with 1 Axes>"
      ]
     },
     "metadata": {},
     "output_type": "display_data"
    }
   ],
   "source": [
    "ax = sns.distplot(y_train.iloc[:,5])"
   ]
  },
  {
   "cell_type": "markdown",
   "metadata": {},
   "source": [
    "##### 丢掉分布不一致的列"
   ]
  },
  {
   "cell_type": "code",
   "execution_count": null,
   "metadata": {},
   "outputs": [],
   "source": []
  }
 ],
 "metadata": {
  "kernelspec": {
   "display_name": "Python 3",
   "language": "python",
   "name": "python3"
  },
  "language_info": {
   "codemirror_mode": {
    "name": "ipython",
    "version": 3
   },
   "file_extension": ".py",
   "mimetype": "text/x-python",
   "name": "python",
   "nbconvert_exporter": "python",
   "pygments_lexer": "ipython3",
   "version": "3.6.5"
  }
 },
 "nbformat": 4,
 "nbformat_minor": 2
}
